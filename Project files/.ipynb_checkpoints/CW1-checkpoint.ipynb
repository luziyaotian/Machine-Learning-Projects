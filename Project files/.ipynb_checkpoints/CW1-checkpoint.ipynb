{
 "cells": [
  {
   "cell_type": "markdown",
   "metadata": {},
   "source": [
    "## Lab 1: Python Exercises for COMP24112\n",
    "\n",
    "# 1. Instruction\n",
    "\n",
    "There are a total of 12 exercises. You are asked to complete all of them. Print out the final results, and comment if needed. Make sure your results can be reproduced by your TA using Restart & Run All.\n",
    "You are **only** allowed to use libraries in the provided file “Instruction on Mathematical Programming in Python for COMP24112”. Additionally, everything asked to add to a report should be included in one single .pdf file (Arial font 11, maximum 1 page)."
   ]
  },
  {
   "cell_type": "markdown",
   "metadata": {},
   "source": [
    "## 2. Exercises\n",
    "\n",
    "Start with the provided supporting tutorial \"Instruction on Mathematical Programming in Python\" and \"Maths Knowledge Overview\". After you are familiar with the basics, you can proceed to the exercises.\n"
   ]
  },
  {
   "cell_type": "markdown",
   "metadata": {},
   "source": [
    "### Exercise 1 (1 mark - easy)\n",
    "\n",
    "Input a 4 by 4 magic square matrix \n",
    "$$\\textbf{A}=\n",
    "\\left[\n",
    "\\begin{array}{cccc}\n",
    "        16   &   3 &  2 & 13 \\\\\n",
    "        5    &  10 & 11 &  8 \\\\\n",
    "        9    &   6 &  7 & 12 \\\\\n",
    "        4    &  15 & 14 &  1 \\\\\n",
    "\\end{array}\n",
    "\\right]. \n",
    "$$  \n",
    "\n",
    "Generate a 4 by 4 matrix $\\textbf{B}$ with random integer entries. Set $\\textbf{C}$ to be a 4 by 4 matrix with 1's on the diagonal and 0's elsewhere. Check to see that, $\\textbf{A}$, $\\textbf{B}$ and $\\textbf{C}$ are all present. Compute the sum of the third column of $\\textbf{A}$."
   ]
  },
  {
   "cell_type": "code",
   "execution_count": 2,
   "metadata": {},
   "outputs": [
    {
     "name": "stdout",
     "output_type": "stream",
     "text": [
      "[[16  3  2 13]\n",
      " [ 5 10 11  8]\n",
      " [ 9  6  7 12]\n",
      " [ 4 15 14  1]]\n",
      "[[20 24 15 34]\n",
      " [76 11 65 90]\n",
      " [94 61 45 22]\n",
      " [24 98 20 53]]\n",
      "[[1. 0. 0. 0.]\n",
      " [0. 1. 0. 0.]\n",
      " [0. 0. 1. 0.]\n",
      " [0. 0. 0. 1.]]\n",
      "34\n"
     ]
    }
   ],
   "source": [
    "import numpy as np\n",
    "A = np.array([[16, 3, 2,13],[5, 10, 11 ,8],[9,6,7,12],[4,15,14,1]])\n",
    "B = (np.random.randint(0, 100, size=[4, 4]))\n",
    "C = np.eye(4)\n",
    "print(A)\n",
    "print(B)\n",
    "print(C)\n",
    "summation = A[0,2] + A[1,2] + A[2,2] + A[3,2] \n",
    "print(summation)"
   ]
  },
  {
   "cell_type": "markdown",
   "metadata": {},
   "source": [
    "### Exercise 2 (1 mark - easy)\n",
    "\n",
    "Generate a 4 by 2 matrix consisting of the 1st and 3rd columns of $\\textbf{B}$ using the colon operator."
   ]
  },
  {
   "cell_type": "code",
   "execution_count": 2,
   "metadata": {},
   "outputs": [
    {
     "name": "stdout",
     "output_type": "stream",
     "text": [
      "[[69  1]\n",
      " [62 85]\n",
      " [31 49]\n",
      " [58 17]]\n"
     ]
    }
   ],
   "source": [
    "print(np.concatenate([B[0:4, 0:1],B[0:4, 2:3]],axis=1))"
   ]
  },
  {
   "cell_type": "markdown",
   "metadata": {},
   "source": [
    "### Exercise 3 (1 mark - easy)\n",
    "\n",
    "Generate a 4 by 2 matrix containing two different columns that are randomly selected from the columns of $\\textbf{B}$. Generate a 3 by 4 matrix containing three different rows that are randomly selected from the rows of $\\textbf{B}$. "
   ]
  },
  {
   "cell_type": "code",
   "execution_count": 3,
   "metadata": {},
   "outputs": [
    {
     "name": "stdout",
     "output_type": "stream",
     "text": [
      "[[ 1 69]\n",
      " [85 62]\n",
      " [49 31]\n",
      " [17 58]]\n"
     ]
    }
   ],
   "source": [
    "randcol = np.random.permutation(4)\n",
    "randcol = randcol[:2]\n",
    "col = np.empty((4,0), int)\n",
    "\n",
    "\n",
    "for i in range(len(randcol)):\n",
    "    if (randcol[i]==0):\n",
    "        col = np.append(col,B[0:4, 0:1], axis=1)\n",
    "        \n",
    "    elif (randcol[i]==1):\n",
    "        col = np.append(col, B[0:4, 1:2], axis=1)\n",
    "        \n",
    "    elif (randcol[i]==2):\n",
    "        col = np.append(col, B[0:4, 2:3], axis=1)\n",
    "        \n",
    "    elif (randcol[i]==3):\n",
    "        col = np.append(col, B[0:4, 3:4], axis=1)\n",
    "        \n",
    "print(col)"
   ]
  },
  {
   "cell_type": "markdown",
   "metadata": {},
   "source": [
    "### Exercise 4 (1 mark - easy)\n",
    "\n",
    "The matrix $\\textbf{A}$ is a magic square, in which the sum of each row, each column, and each diagonal is the same. First check whether $\\textbf{A}$ satisfies this  magic square condition. Then sort the 2nd row of $\\textbf{A}$ and print this sorted row using appropriate commands."
   ]
  },
  {
   "cell_type": "code",
   "execution_count": 4,
   "metadata": {},
   "outputs": [
    {
     "name": "stdout",
     "output_type": "stream",
     "text": [
      "Sum of Row 0 :  34\n",
      "Sum of Row 1 :  34\n",
      "Sum of Row 2 :  34\n",
      "Sum of Row 3 :  34\n",
      "[34 34 34 34]\n",
      "Sum of Column 0 :  34\n",
      "Sum of Column 1 :  34\n",
      "Sum of Column 2 :  34\n",
      "Sum of Column 3 :  34\n",
      "[34 34 34 34]\n",
      "Sum of Diagonal: \n",
      "34\n"
     ]
    }
   ],
   "source": [
    "#summation of rows\n",
    "def sumOfRows():\n",
    "    a = 0\n",
    "    for i in range(len(A)):\n",
    "        for j in range(0,4):\n",
    "            a += A[i,j]\n",
    "        print(\"Sum of Row\",i,\": \",a)\n",
    "        a = 0\n",
    "    print(np.sum(A,axis=0))\n",
    "\n",
    "def sumOfColumns():\n",
    "    a = 0\n",
    "    for i in range(0,4):\n",
    "        for j in range(len(A)):\n",
    "            a += A[i,j]\n",
    "        print(\"Sum of Column\",i,\": \",  a)\n",
    "        a = 0\n",
    "    print(np.sum(A,axis=1))\n",
    "    \n",
    "def sumOfDiagonals():\n",
    "    print(\"Sum of Diagonal: \")\n",
    "    print(sum(A.diagonal()))\n",
    "    \n",
    "    \n",
    "\n",
    "sumOfRows()\n",
    "sumOfColumns()\n",
    "sumOfDiagonals()\n",
    "\n"
   ]
  },
  {
   "cell_type": "markdown",
   "metadata": {},
   "source": [
    "### Exercise 5 (1 mark - easy)\n",
    "\n",
    "Set $\\textbf{B}$ as an identity matrix, multiplication of $\\textbf{A}$ by $\\textbf{B}$ should yield $\\textbf{A}$. Check this. What does component by component multipilication give? Check this. "
   ]
  },
  {
   "cell_type": "code",
   "execution_count": 5,
   "metadata": {},
   "outputs": [
    {
     "name": "stdout",
     "output_type": "stream",
     "text": [
      "Matrix A: \n",
      "[[16  3  2 13]\n",
      " [ 5 10 11  8]\n",
      " [ 9  6  7 12]\n",
      " [ 4 15 14  1]]\n",
      "Matrix B: \n",
      "[[1. 0. 0. 0.]\n",
      " [0. 1. 0. 0.]\n",
      " [0. 0. 1. 0.]\n",
      " [0. 0. 0. 1.]]\n",
      "Matrix A * B: \n",
      "[[16.  3.  2. 13.]\n",
      " [ 5. 10. 11.  8.]\n",
      " [ 9.  6.  7. 12.]\n",
      " [ 4. 15. 14.  1.]]\n"
     ]
    }
   ],
   "source": [
    "B = np.eye(4)\n",
    "print(\"Matrix A: \")\n",
    "print(A)\n",
    "print(\"Matrix B: \")\n",
    "print(B)\n",
    "print(\"Matrix A * B: \")\n",
    "print(A@B)\n"
   ]
  },
  {
   "cell_type": "markdown",
   "metadata": {},
   "source": [
    "### Exercise 6 (1 mark - easy)\n",
    "\n",
    "Count the number of values of $\\textbf{A}$ which are greater than 10 using logical operators."
   ]
  },
  {
   "cell_type": "code",
   "execution_count": 6,
   "metadata": {},
   "outputs": [
    {
     "name": "stdout",
     "output_type": "stream",
     "text": [
      "[[ True False False  True]\n",
      " [False False  True False]\n",
      " [False False False  True]\n",
      " [False  True  True False]]\n"
     ]
    }
   ],
   "source": [
    "print(10<A)"
   ]
  },
  {
   "cell_type": "markdown",
   "metadata": {},
   "source": [
    "### Exercise 7 (1 mark - easy)\n",
    "\n",
    "The reciprocal of a number $x$ is  $1/x$. Use `for` loops to  create  a new matrix $\\textbf{B}$, where each element in $\\textbf{B}$ is the reciprocal of the corresponding element in $\\textbf{A}$, and sum the columns of $\\textbf{B}$. Now create the same matrix $\\textbf{B}$ and calculate its column sums in a single operation, using matrix commands, without a `for` loop."
   ]
  },
  {
   "cell_type": "code",
   "execution_count": 7,
   "metadata": {},
   "outputs": [
    {
     "name": "stdout",
     "output_type": "stream",
     "text": [
      "[[0.0625     0.33333333 0.5        0.07692308]\n",
      " [0.2        0.1        0.09090909 0.125     ]\n",
      " [0.11111111 0.16666667 0.14285714 0.08333333]\n",
      " [0.25       0.06666667 0.07142857 1.        ]]\n",
      "[0.97275641 0.51590909 0.50396825 1.38809524]\n"
     ]
    }
   ],
   "source": [
    "B = np.reciprocal(A@B)\n",
    "print(B)\n",
    "print(np.sum(B,axis=1))"
   ]
  },
  {
   "cell_type": "markdown",
   "metadata": {},
   "source": [
    "### Exercise 8 (1 mark - easy)\n",
    "\n",
    "Plot the log and square root of the integers from $1$ to $100$ in one single figure. Provide axis names, legend and title for the figure."
   ]
  },
  {
   "cell_type": "code",
   "execution_count": 8,
   "metadata": {},
   "outputs": [
    {
     "data": {
      "image/png": "[encoded data removed]",
      "text/plain": [
       "<Figure size 432x288 with 1 Axes>"
      ]
     },
     "metadata": {
      "needs_background": "light"
     },
     "output_type": "display_data"
    }
   ],
   "source": [
    "from matplotlib import pyplot as plt\n",
    "xsq = np.arange(1,100)\n",
    "ysq = np.zeros(len(xsq))\n",
    "\n",
    "for i in range(len(xsq)):\n",
    "    ysq[i] = np.sqrt(xsq[i])\n",
    "\n",
    "ylog = np.zeros(len(xsq))\n",
    "for i in range(len(xsq)):\n",
    "    ylog[i] = np.log(xsq[i])\n",
    "    \n",
    "plt.plot(xsq, ylog, label = \"log\")\n",
    "plt.plot(xsq, ysq, label = \"square root\")\n",
    "\n",
    "plt.legend()\n",
    "\n",
    "plt.show()\n",
    "\n",
    "\n"
   ]
  },
  {
   "cell_type": "markdown",
   "metadata": {},
   "source": [
    "### Exercise 9 (2 marks - normal)\n",
    "\n",
    "Let $\\boldsymbol{y} $ be an $N$-dimensional column vector with $y_i$ denoting its $i$-th element. \n",
    "Let $\\textbf{X}$ be an $N$ by $D$ matrix and $\\boldsymbol{x}_{i}$ be a column vector which is the transpose of the $i$-th row of $\\textbf{X}$.\n",
    "Let $\\boldsymbol{w}$ be a $D$-dimensional column vector. \n",
    "Choose a value for $N$ and a value for $D$ as you like, generate $\\boldsymbol{y}$, $\\textbf{X}$ and $\\boldsymbol{w}$ containing random elements.\n",
    "Use matrix operations and `for` loops to verify the following two quantities are equal. \n",
    "$$ \\boldsymbol{g}_1 = \\textbf{X}^T\\textbf{X} \\boldsymbol{w}-\\textbf{X}^T \\boldsymbol{y}$$\n",
    "$$ \\boldsymbol{g}_2 = \\sum_{i=1}^N \\left(\\boldsymbol{x}_{i}^T \\boldsymbol{w}- y_i\\right) \\boldsymbol{x}_{i}$$\n",
    "\n",
    "Define an example case for your convenience with $N=2$ and $D=3$, calculate $ \\boldsymbol{g}_1$ and $\\boldsymbol{g}_2$ by hand and write down the calcualtion step by step in the report."
   ]
  },
  {
   "cell_type": "code",
   "execution_count": 8,
   "metadata": {},
   "outputs": [
    {
     "name": "stdout",
     "output_type": "stream",
     "text": [
      "g1: \n",
      "[[0.02767592]\n",
      " [0.83973159]\n",
      " [0.18934726]]\n",
      "g2: \n",
      "[[0.02767592]\n",
      " [0.83973159]\n",
      " [0.18934726]]\n"
     ]
    }
   ],
   "source": [
    "# N dimension of column vector y\n",
    "N = 2\n",
    "y = np.random.rand(N, 1)\n",
    "\n",
    "# D dimension of column vector w\n",
    "D = 3\n",
    "w = np.random.rand(D,1)\n",
    "\n",
    "# N by D matrix X\n",
    "X = np.random.randn(N, D)\n",
    "\n",
    "# xi column vector\n",
    "x = [] # list of column vectors\n",
    "for i in range(N):\n",
    "    xi = X[i:i+1, 0:D+1]\n",
    "    x.append(xi.T)\n",
    "\n",
    "# transposition of X\n",
    "Xt = np.transpose(X)\n",
    "\n",
    "# g1\n",
    "g1 = Xt@X@w - Xt@y\n",
    "print(\"g1: \")\n",
    "print(g1)\n",
    "\n",
    "# g2\n",
    "g2 = np.zeros((1))\n",
    "for i in range(N):\n",
    "    xit = np.transpose(x[i])\n",
    "    m = float(xit@w - y[i])\n",
    "    g2 = g2 + np.multiply(x[i], m)\n",
    "\n",
    "print(\"g2: \")\n",
    "print(g2)\n",
    "\n",
    "\n",
    "\n"
   ]
  },
  {
   "cell_type": "markdown",
   "metadata": {},
   "source": [
    "### Exercise 10 (2 marks - normal)\n",
    "\n",
    "Calculate the derivative of function $f(x) = x^2+3x+1$ at 10 randomly chosen values of $x$. Write a user-defined function for calculating an approximated derivative of an input function based on \n",
    "\n",
    "$$\\frac{d f(x)}{d x}=\\frac{f(x+\\Delta x)-f(x)}{\\Delta x} ~ .$$\n",
    "\n",
    "Use this function to calculate the approximated derivative for $f(x) = x^2+3x+1$ at the same 10 chosen values of $x$ for $\\Delta x = 1$, $\\Delta x = 0.1$ and $\\Delta x = 0.001$. Plot your derivatives and the approximated derivatives in the same figure. Provide axis names, legend and title for the figure. Explain which $\\Delta x$ gives you a better approximation and analyse how the choice of $\\Delta x$ affects the approximation in the report."
   ]
  },
  {
   "cell_type": "code",
   "execution_count": 10,
   "metadata": {},
   "outputs": [
    {
     "data": {
      "image/png": "[encoded data removed]",
      "text/plain": [
       "<Figure size 432x288 with 1 Axes>"
      ]
     },
     "metadata": {
      "needs_background": "light"
     },
     "output_type": "display_data"
    }
   ],
   "source": [
    "from matplotlib import pyplot as plt\n",
    "# function f(x)\n",
    "def f(x):\n",
    "    y = x**2 + 3*x + 1\n",
    "    return y\n",
    "\n",
    "# list of 10 random values\n",
    "rx = []\n",
    "for i in range(10):\n",
    "        rx.append(np.random.rand())\n",
    "        \n",
    "# derivation function\n",
    "def der(x):\n",
    "    deltax = x\n",
    "    # list of derivation values\n",
    "    a = []\n",
    "    for i in range(len(rx)):\n",
    "        a.append((f(rx[i]+deltax)-f(rx[i]))/deltax)\n",
    "    return a\n",
    "\n",
    "# plots delta x values of 0.001, 0.1, 1\n",
    "plt.plot(rx,der(0.001),\"o\", label=\"0.001\")\n",
    "plt.plot(rx,der(0.1),\"o\", label=\"0.1\")\n",
    "plt.plot(rx,der(1),\"o\", label=\"1\")\n",
    "\n",
    "# labels\n",
    "plt.xlabel('x')\n",
    "plt.ylabel('derivative')\n",
    "\n",
    "#title\n",
    "plt.title('The Derivative of a Function')\n",
    "\n",
    "#legend\n",
    "plt.legend()\n",
    "\n",
    "plt.show()"
   ]
  },
  {
   "cell_type": "markdown",
   "metadata": {},
   "source": [
    "### Exercise 11 (3 marks - normal)\n",
    "\n",
    "Given two $d$-dimensional data points $\\boldsymbol{x} = [x_1,x_2,\\dots,x_d]$ and $\\boldsymbol{y}=[y_1,y_2,\\dots,y_d]$. The Euclidean distance between these two points is computed as \n",
    "\n",
    "$$\n",
    "d(\\boldsymbol{x},\\boldsymbol{y}) = \\sqrt{\\sum_{i=1}^d (x_i-y_i)^2} = \\sqrt{\\boldsymbol{x}\\boldsymbol{x}^T - 2\\boldsymbol{x}\\boldsymbol{y}^T+\\boldsymbol{y}\\boldsymbol{y}^T}.\n",
    "$$\n",
    "\n",
    "Generate $5$ random $3$-dimensional points and store them in a $5\\times 3$ matrix called $\\textbf{A}$ ($5$ rows and $3$ columns). Generate another $8$ random $3$-dimensional points and store them in a $8\\times 3$ matrix called $\\textbf{B}$ ($8$ rows and $3$ columns). Calculate the Euclidean distance between the $5$ and $8$ points, and store these distances in a $5\\times 8$ matrix called $\\textbf{D}$ using `for` loops ($5$ rows and $8$ colums).\n",
    "\n",
    "* Calculate the Euclidean distances between the 5 and 8 points, and store these distances in a $5\\times 8$ matrix called $\\boldsymbol{D}$ using `for` loops (5 rows and 8 columns). \n",
    "* Calculate  $\\boldsymbol{D}$ using algebraic matrix operations without using any loop.  Explain how you derive the solution in the report. \n"
   ]
  },
  {
   "cell_type": "code",
   "execution_count": 7,
   "metadata": {},
   "outputs": [
    {
     "name": "stdout",
     "output_type": "stream",
     "text": [
      "[[0.9532791  0.71229957 0.44502409 0.73055107 0.4988613 ]\n",
      " [0.34009359 0.41717124 0.75946165 0.57413682 0.92844435]\n",
      " [0.53966149 0.73872796 0.42959025 0.8770203  0.50403562]\n",
      " [0.48978939 0.52645719 0.85017782 0.55779165 1.06665862]\n",
      " [0.85555005 0.47780413 0.68561422 0.38820212 0.86441289]\n",
      " [0.61077665 0.51333207 0.21867442 0.67961115 0.23076371]\n",
      " [0.42386808 0.09644139 0.52478144 0.56485412 0.52994366]\n",
      " [0.81691085 0.62131249 0.49484814 0.86869847 0.18533544]]\n"
     ]
    }
   ],
   "source": [
    "def d(x,y):\n",
    "    out = np.sqrt(x@x.T - np.multiply(x@y.T,2) + y@y.T)\n",
    "    return out\n",
    "\n",
    "A = np.random.rand(5,3)\n",
    "B = np.random.rand(8,3)\n",
    "D = np.zeros((8,5))\n",
    "\n",
    "for i in range(5):\n",
    "    for j in range(8): \n",
    "        x = A[i:i+1,0:4]\n",
    "        y = B[j:j+1,0:4]\n",
    "        D[j:j+1,i:i+1] = d(x,y)\n",
    "\n",
    "        \n",
    "print(D)\n"
   ]
  },
  {
   "cell_type": "markdown",
   "metadata": {},
   "source": [
    "### Exercise 12 (5 marks - hard)\n",
    "\n",
    "This is a challenging exercise that requires some significant effort and time. Implement from scratch a piece of Python code that can be used to solve the following optimisation problem:\n",
    "$$\\min_{-4 \\leq x \\leq 6} x^4 -4x^3 +60\\sin(x) +50\\cos(x).$$\n",
    "  Explain your solution and discuss its advantage and limitation in the report.  You are encouraged to design the solution from scratch based on what you  have known. But you are allowed to seek support from existing literature and solve the problem using new self-learned knowledge, and in this case you need to provide references to the used knowledge resources that help you come up with a solution. What is not allowed is to use any optimisation library and any readily provided implementation (even with minor modifications). The solution should be implemented from scratch by yourself. "
   ]
  },
  {
   "cell_type": "code",
   "execution_count": 12,
   "metadata": {},
   "outputs": [
    {
     "data": {
      "image/png": "[encoded data removed]",
      "text/plain": [
       "<Figure size 432x288 with 1 Axes>"
      ]
     },
     "metadata": {
      "needs_background": "light"
     },
     "output_type": "display_data"
    }
   ],
   "source": [
    "# You can observe the plot of the function by running this cell\n",
    "\n",
    "import numpy as np\n",
    "import matplotlib.pyplot as plt\n",
    "\n",
    "def f(x):\n",
    "    return x**4 - 4 * x**3 + 60 * np.sin(x) + 50 * np.cos(x)\n",
    "\n",
    "lb = -4.\n",
    "ub = 6.\n",
    "x = np.arange(lb,ub,0.1)\n",
    "fx = f(x)\n",
    "\n",
    "plt.plot(x,fx)\n",
    "plt.xlabel(\"$x$\")\n",
    "plt.ylabel(\"$x^4 - 4x^3 + 60\\sin(x) +50\\cos(x)$\")\n",
    "plt.show()\n",
    "\n",
    "\n"
   ]
  },
  {
   "cell_type": "code",
   "execution_count": 13,
   "metadata": {},
   "outputs": [
    {
     "name": "stdout",
     "output_type": "stream",
     "text": [
      "x:\n",
      "3.6000000000000068\n",
      "y:\n",
      "-90.0515474143985\n"
     ]
    }
   ],
   "source": [
    "minxpoint = 1000\n",
    "minypoint = min(fx)\n",
    "\n",
    "for i in x:\n",
    "    if (f(i) == minypoint):\n",
    "        minxpoint = i\n",
    "\n",
    "print(\"x:\")\n",
    "print(minxpoint)\n",
    "print(\"y:\")\n",
    "print(minypoint)"
   ]
  },
  {
   "cell_type": "code",
   "execution_count": null,
   "metadata": {},
   "outputs": [],
   "source": []
  }
 ],
 "metadata": {
  "kernelspec": {
   "display_name": "Python 3",
   "language": "python",
   "name": "python3"
  },
  "language_info": {
   "codemirror_mode": {
    "name": "ipython",
    "version": 3
   },
   "file_extension": ".py",
   "mimetype": "text/x-python",
   "name": "python",
   "nbconvert_exporter": "python",
   "pygments_lexer": "ipython3",
   "version": "3.8.10"
  }
 },
 "nbformat": 4,
 "nbformat_minor": 4
}
